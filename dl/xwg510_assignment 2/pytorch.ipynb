{
 "cells": [
  {
   "cell_type": "code",
   "execution_count": 1,
   "metadata": {},
   "outputs": [],
   "source": [
    "import torch\n",
    "import torchvision\n",
    "import torchvision.transforms as transforms\n",
    "import torch.nn as nn\n",
    "import torch.nn.functional as F\n",
    "import torch.optim as optim"
   ]
  },
  {
   "cell_type": "code",
   "execution_count": 2,
   "metadata": {},
   "outputs": [
    {
     "name": "stdout",
     "output_type": "stream",
     "text": [
      "Files already downloaded and verified\n",
      "Files already downloaded and verified\n"
     ]
    }
   ],
   "source": [
    "transform = transforms.Compose(\n",
    "    [transforms.ToTensor(),\n",
    "     transforms.Normalize((0.5, 0.5, 0.5), (0.5, 0.5, 0.5))])\n",
    "\n",
    "trainset = torchvision.datasets.CIFAR10(root='./data', train=True,\n",
    "                                        download=True, transform=transform)\n",
    "trainloader = torch.utils.data.DataLoader(trainset, batch_size=4,\n",
    "                                          shuffle=True, num_workers=2)\n",
    "\n",
    "testset = torchvision.datasets.CIFAR10(root='./data', train=False,\n",
    "                                       download=True, transform=transform)\n",
    "testloader = torch.utils.data.DataLoader(testset, batch_size=4,\n",
    "                                         shuffle=False, num_workers=2)\n",
    "\n",
    "classes = ('plane', 'car', 'bird', 'cat',\n",
    "           'deer', 'dog', 'frog', 'horse', 'ship', 'truck')"
   ]
  },
  {
   "cell_type": "code",
   "execution_count": 3,
   "metadata": {},
   "outputs": [],
   "source": [
    "class Net(nn.Module):\n",
    "    def __init__(self):\n",
    "        super(Net,self).__init__()\n",
    "        self.conv1 = nn.Conv2d(3, 6, 5)\n",
    "        self.pool = nn.MaxPool2d(2, 2)\n",
    "        self.conv2 = nn.Conv2d(6, 16, 5)\n",
    "        self.fc1 = nn.Linear(16*5*5, 120)\n",
    "        self.fc2 = nn.Linear(120, 84)\n",
    "        self.fc3 = nn.Linear(84, 10)\n",
    "    def forward(self,x):\n",
    "        x = self.pool(F.relu(self.conv1(x)))\n",
    "        x = self.pool(F.relu(self.conv2(x)))\n",
    "        x = x.view(-1, 16*5*5)\n",
    "        x = F.relu(self.fc1(x))\n",
    "        x = F.relu(self.fc2(x))\n",
    "        x = self.fc3(x)\n",
    "        return x\n",
    "    \n",
    "net = Net()"
   ]
  },
  {
   "cell_type": "code",
   "execution_count": 4,
   "metadata": {},
   "outputs": [],
   "source": [
    "criterion = nn.CrossEntropyLoss()\n",
    "optimizer = optim.SGD(net.parameters(),lr = 0.0001,momentum = 0.9)"
   ]
  },
  {
   "cell_type": "code",
   "execution_count": 5,
   "metadata": {},
   "outputs": [
    {
     "name": "stdout",
     "output_type": "stream",
     "text": [
      "[1,  2000] loss: 2.302\n",
      "[1,  4000] loss: 2.293\n",
      "[1,  6000] loss: 2.271\n",
      "[1,  8000] loss: 2.209\n",
      "[1, 10000] loss: 2.155\n",
      "[1, 12000] loss: 2.109\n",
      "[2,  2000] loss: 2.046\n",
      "[2,  4000] loss: 1.991\n",
      "[2,  6000] loss: 1.952\n",
      "[2,  8000] loss: 1.895\n",
      "[2, 10000] loss: 1.872\n",
      "[2, 12000] loss: 1.838\n",
      "[3,  2000] loss: 1.816\n",
      "[3,  4000] loss: 1.764\n",
      "[3,  6000] loss: 1.750\n",
      "[3,  8000] loss: 1.728\n",
      "[3, 10000] loss: 1.698\n",
      "[3, 12000] loss: 1.640\n",
      "[4,  2000] loss: 1.620\n",
      "[4,  4000] loss: 1.576\n",
      "[4,  6000] loss: 1.591\n",
      "[4,  8000] loss: 1.553\n",
      "[4, 10000] loss: 1.558\n",
      "[4, 12000] loss: 1.518\n",
      "[5,  2000] loss: 1.524\n",
      "[5,  4000] loss: 1.462\n",
      "[5,  6000] loss: 1.471\n",
      "[5,  8000] loss: 1.447\n",
      "[5, 10000] loss: 1.447\n",
      "[5, 12000] loss: 1.443\n",
      "[6,  2000] loss: 1.421\n",
      "[6,  4000] loss: 1.401\n",
      "[6,  6000] loss: 1.388\n",
      "[6,  8000] loss: 1.380\n",
      "[6, 10000] loss: 1.374\n",
      "[6, 12000] loss: 1.349\n",
      "[7,  2000] loss: 1.348\n",
      "[7,  4000] loss: 1.308\n",
      "[7,  6000] loss: 1.329\n",
      "[7,  8000] loss: 1.313\n",
      "[7, 10000] loss: 1.306\n",
      "[7, 12000] loss: 1.291\n",
      "[8,  2000] loss: 1.277\n",
      "[8,  4000] loss: 1.244\n",
      "[8,  6000] loss: 1.268\n",
      "[8,  8000] loss: 1.254\n",
      "[8, 10000] loss: 1.250\n",
      "[8, 12000] loss: 1.239\n",
      "[9,  2000] loss: 1.204\n",
      "[9,  4000] loss: 1.216\n",
      "[9,  6000] loss: 1.226\n",
      "[9,  8000] loss: 1.194\n",
      "[9, 10000] loss: 1.189\n",
      "[9, 12000] loss: 1.169\n",
      "[10,  2000] loss: 1.155\n",
      "[10,  4000] loss: 1.165\n",
      "[10,  6000] loss: 1.162\n",
      "[10,  8000] loss: 1.158\n",
      "[10, 10000] loss: 1.141\n",
      "[10, 12000] loss: 1.156\n",
      "finish training\n"
     ]
    }
   ],
   "source": [
    "for epoch in range(10):\n",
    "    running_loss = 0\n",
    "    for i, data in enumerate(trainloader, 0):\n",
    "        inputs, labels = data\n",
    "        optimizer.zero_grad()\n",
    "        outputs = net(inputs)\n",
    "        loss = criterion(outputs, labels)\n",
    "        loss.backward()\n",
    "        optimizer.step()\n",
    "        \n",
    "        running_loss += loss.item()\n",
    "        if i % 2000 == 1999:    \n",
    "            print('[%d, %5d] loss: %.3f' %\n",
    "                  (epoch + 1, i + 1, running_loss / 2000))\n",
    "            running_loss = 0.0\n",
    "\n",
    "print('finish training')"
   ]
  },
  {
   "cell_type": "code",
   "execution_count": 6,
   "metadata": {},
   "outputs": [
    {
     "name": "stdout",
     "output_type": "stream",
     "text": [
      "Accuracy of the network on the 10000 test images: 58 %\n"
     ]
    }
   ],
   "source": [
    "correct = 0\n",
    "total = 0\n",
    "with torch.no_grad():\n",
    "    for data in testloader:\n",
    "        images, labels = data\n",
    "        outputs = net(images)\n",
    "        _, predicted = torch.max(outputs.data, 1)\n",
    "        total += labels.size(0)\n",
    "        correct += (predicted == labels).sum().item()\n",
    "\n",
    "print('Accuracy of the network on the 10000 test images: %d %%' % (\n",
    "    100 * correct / total))"
   ]
  }
 ],
 "metadata": {
  "kernelspec": {
   "display_name": "Python 3",
   "language": "python",
   "name": "python3"
  },
  "language_info": {
   "codemirror_mode": {
    "name": "ipython",
    "version": 3
   },
   "file_extension": ".py",
   "mimetype": "text/x-python",
   "name": "python",
   "nbconvert_exporter": "python",
   "pygments_lexer": "ipython3",
   "version": "3.7.6"
  }
 },
 "nbformat": 4,
 "nbformat_minor": 4
}
