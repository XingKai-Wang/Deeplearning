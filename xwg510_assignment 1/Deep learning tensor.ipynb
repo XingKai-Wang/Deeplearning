{
 "cells": [
  {
   "cell_type": "code",
   "execution_count": 1,
   "metadata": {},
   "outputs": [],
   "source": [
    "import numpy as np\n",
    "from urllib import request\n",
    "import gzip\n",
    "import pickle\n",
    "import os\n",
    "import seaborn as sns\n",
    "import matplotlib.pyplot as plt\n",
    "from sklearn import preprocessing"
   ]
  },
  {
   "cell_type": "code",
   "execution_count": 2,
   "metadata": {},
   "outputs": [],
   "source": [
    "def sigmoid(x):\n",
    "    s = 1 / (1 + np.exp(-x))\n",
    "    return s"
   ]
  },
  {
   "cell_type": "code",
   "execution_count": 3,
   "metadata": {},
   "outputs": [],
   "source": [
    "def softmax(x):\n",
    "    x_exp = np.exp(x)\n",
    "    x_sum = np.sum(x_exp, keepdims = True)\n",
    "    s = x_exp / x_sum\n",
    "    return s"
   ]
  },
  {
   "cell_type": "code",
   "execution_count": 4,
   "metadata": {},
   "outputs": [],
   "source": [
    "def sizes():\n",
    "    n_x = 784\n",
    "    n_h = 300\n",
    "    n_y = 10\n",
    "    \n",
    "    return (n_x,n_h,n_y)"
   ]
  },
  {
   "cell_type": "code",
   "execution_count": 5,
   "metadata": {},
   "outputs": [],
   "source": [
    "def initial_weights(n_x,n_h,n_y):\n",
    "    W = np.random.randn(n_h,n_x)\n",
    "    b = np.zeros((n_h,1))\n",
    "    V = np.random.randn(n_h,n_y) \n",
    "    c = np.zeros((1,n_y))\n",
    "    \n",
    "    parameters = {\"W\": W,\n",
    "                  \"b\": b,\n",
    "                  \"V\": V,\n",
    "                  \"c\": c}\n",
    "    return parameters"
   ]
  },
  {
   "cell_type": "code",
   "execution_count": 6,
   "metadata": {},
   "outputs": [],
   "source": [
    "def forward(x, parameters):\n",
    "    W, b, V, c = parameters['W'], parameters['b'], parameters['V'], parameters['c']\n",
    "    \n",
    "    k = np.dot(W,x) + b\n",
    "    h = sigmoid(k)\n",
    "    z = np.dot(h.T,V) + c\n",
    "    y = softmax(z)\n",
    "    \n",
    "    cache = {'k':k,\n",
    "             'h':h,\n",
    "             'z':z,\n",
    "             'y':y}\n",
    "    \n",
    "    return y, cache"
   ]
  },
  {
   "cell_type": "code",
   "execution_count": 7,
   "metadata": {},
   "outputs": [],
   "source": [
    "def cross_entropy(y,t):\n",
    "    logprobs = np.multiply(np.log(y), t) + np.multiply(np.log(1 - y), (1 - t))\n",
    "    cost = -np.sum(logprobs)/ 10\n",
    "    \n",
    "    return cost"
   ]
  },
  {
   "cell_type": "code",
   "execution_count": 8,
   "metadata": {},
   "outputs": [],
   "source": [
    "def delta_cross_entropy(y,t):\n",
    "    dloss = y - t\n",
    "    return dloss"
   ]
  },
  {
   "cell_type": "code",
   "execution_count": 9,
   "metadata": {},
   "outputs": [],
   "source": [
    "def backward(y,t,x,parameters, cache):\n",
    "    h,k = cache['h'],cache['k']\n",
    "    V = parameters['V']\n",
    "    \n",
    "    dloss = delta_cross_entropy(y,t)\n",
    "    dV = np.dot(h, dloss)\n",
    "    dc = dloss\n",
    "    dh = np.sum(np.dot(dloss, V.T))\n",
    "    dk = np.dot(dh,sigmoid(k) * (1-sigmoid(k)))\n",
    "    dW = np.dot(dk, x.T)\n",
    "    db = dk\n",
    "    \n",
    "    grads = {'dW':dW,\n",
    "             'db':db,\n",
    "             'dV':dV,\n",
    "             'dc':dc}\n",
    "    \n",
    "    return grads"
   ]
  },
  {
   "cell_type": "code",
   "execution_count": 30,
   "metadata": {},
   "outputs": [],
   "source": [
    "def update_parameters(parameters, grads,learning_rate = 0.0001):\n",
    "    # get weights\n",
    "    W,b,V,c = parameters['W'], parameters['b'], parameters['V'], parameters['c']\n",
    "   \n",
    "    # get gridient\n",
    "    dW,db,dV,dc = grads['dW'], grads['db'], grads['dV'], grads['dc']\n",
    "   \n",
    "    # update weights \n",
    "    W = W - learning_rate * dW\n",
    "    b = b - learning_rate * db\n",
    "    V = V - learning_rate * dV\n",
    "    c = c - learning_rate * dc\n",
    "    \n",
    "    parameters = {\"W\": W,\n",
    "                  \"b\": b,\n",
    "                  \"V\": V,\n",
    "                  \"c\": c}\n",
    "    \n",
    "    return parameters"
   ]
  },
  {
   "cell_type": "code",
   "execution_count": 11,
   "metadata": {},
   "outputs": [],
   "source": [
    "def convert_onehot(t):\n",
    "    t = np.eye(10)[t]\n",
    "    return t"
   ]
  },
  {
   "cell_type": "code",
   "execution_count": 41,
   "metadata": {},
   "outputs": [],
   "source": [
    "def nn_model(train_data,true_label,num_iterations,epoch):\n",
    "    n_x, n_h, n_y = sizes()\n",
    "    parameters = initial_weights(n_x,n_h,n_y)\n",
    "    t_oh = convert_onehot(true_label)\n",
    "    cost_epoch_avg = []\n",
    "    cost_epoch_std = []\n",
    "    # gridient descent\n",
    "    for e in range(epoch):\n",
    "        print('tarining epoch %i'% e)\n",
    "        loss = []\n",
    "        loss_val = []\n",
    "        for i in range(0, num_iterations):\n",
    "            x = train_data[i].reshape(784,1)\n",
    "            y, cache = forward(x, parameters)\n",
    "            t = t_oh[i].reshape(1,10)\n",
    "            cost = cross_entropy(y,t)\n",
    "            grads = backward(y,t,x, parameters,cache)\n",
    "            parameters = update_parameters(parameters,grads,learning_rate = 0.0001)\n",
    "            loss.append(cost)\n",
    "            #print cost\n",
    "            if i % 5000 == 0:\n",
    "                print (\"Cost after iteration %i: %f\" %(i, cost))\n",
    "        \n",
    "        cost_epoch_avg.append(np.mean(loss))\n",
    "        cost_epoch_std.append(np.std(loss))\n",
    "         \n",
    "    return parameters, cost_epoch_avg, cost_epoch_std"
   ]
  },
  {
   "cell_type": "code",
   "execution_count": 13,
   "metadata": {},
   "outputs": [],
   "source": [
    "def load_mnist(final=False, flatten=True):\n",
    "    \"\"\"\n",
    "    Load the MNIST data\n",
    "    :param final: If true, return the canonical test/train split. If false, split some validation data from the training\n",
    "       data and keep the test data hidden.\n",
    "    :param flatten:\n",
    "    :return:\n",
    "    \"\"\"\n",
    "\n",
    "    if not os.path.isfile('mnist.pkl'):\n",
    "        init()\n",
    "\n",
    "    xtrain, ytrain, xtest, ytest = load()\n",
    "    xtl, xsl = xtrain.shape[0], xtest.shape[0]\n",
    "\n",
    "    if flatten:\n",
    "        xtrain = xtrain.reshape(xtl, -1)\n",
    "        xtest  = xtest.reshape(xsl, -1)\n",
    "\n",
    "    if not final: # return the flattened images\n",
    "        return (xtrain[:-5000], ytrain[:-5000]), (xtrain[-5000:], ytrain[-5000:]), 10\n",
    "\n",
    "    return (xtrain, ytrain), (xtest, ytest), 10"
   ]
  },
  {
   "cell_type": "code",
   "execution_count": 14,
   "metadata": {},
   "outputs": [],
   "source": [
    "filename = [\n",
    "[\"training_images\",\"train-images-idx3-ubyte.gz\"],\n",
    "[\"test_images\",\"t10k-images-idx3-ubyte.gz\"],\n",
    "[\"training_labels\",\"train-labels-idx1-ubyte.gz\"],\n",
    "[\"test_labels\",\"t10k-labels-idx1-ubyte.gz\"]\n",
    "]"
   ]
  },
  {
   "cell_type": "code",
   "execution_count": 15,
   "metadata": {},
   "outputs": [],
   "source": [
    "def download_mnist():\n",
    "    base_url = \"http://yann.lecun.com/exdb/mnist/\"\n",
    "    for name in filename:\n",
    "        print(\"Downloading \"+name[1]+\"...\")\n",
    "        request.urlretrieve(base_url+name[1], name[1])\n",
    "    print(\"Download complete.\")"
   ]
  },
  {
   "cell_type": "code",
   "execution_count": 16,
   "metadata": {},
   "outputs": [],
   "source": [
    "def save_mnist():\n",
    "    mnist = {}\n",
    "    for name in filename[:2]:\n",
    "        with gzip.open(name[1], 'rb') as f:\n",
    "            mnist[name[0]] = np.frombuffer(f.read(), np.uint8, offset=16).reshape(-1,28*28)\n",
    "    for name in filename[-2:]:\n",
    "        with gzip.open(name[1], 'rb') as f:\n",
    "            mnist[name[0]] = np.frombuffer(f.read(), np.uint8, offset=8)\n",
    "    with open(\"mnist.pkl\", 'wb') as f:\n",
    "        pickle.dump(mnist,f)\n",
    "    print(\"Save complete.\")"
   ]
  },
  {
   "cell_type": "code",
   "execution_count": 17,
   "metadata": {},
   "outputs": [],
   "source": [
    "def init():\n",
    "    download_mnist()\n",
    "    save_mnist()"
   ]
  },
  {
   "cell_type": "code",
   "execution_count": 18,
   "metadata": {},
   "outputs": [],
   "source": [
    "def load():\n",
    "    with open(\"mnist.pkl\",'rb') as f:\n",
    "        mnist = pickle.load(f)\n",
    "    return mnist[\"training_images\"], mnist[\"training_labels\"], mnist[\"test_images\"], mnist[\"test_labels\"]"
   ]
  },
  {
   "cell_type": "code",
   "execution_count": 20,
   "metadata": {},
   "outputs": [],
   "source": [
    "train_data, test_data, num = load_mnist()"
   ]
  },
  {
   "cell_type": "code",
   "execution_count": 42,
   "metadata": {},
   "outputs": [
    {
     "name": "stdout",
     "output_type": "stream",
     "text": [
      "tarining epoch 0\n",
      "Cost after iteration 0: 2.926560\n"
     ]
    },
    {
     "ename": "KeyboardInterrupt",
     "evalue": "",
     "output_type": "error",
     "traceback": [
      "\u001b[1;31m---------------------------------------------------------------------------\u001b[0m",
      "\u001b[1;31mKeyboardInterrupt\u001b[0m                         Traceback (most recent call last)",
      "\u001b[1;32m<ipython-input-42-12ac66b10164>\u001b[0m in \u001b[0;36m<module>\u001b[1;34m\u001b[0m\n\u001b[0;32m      1\u001b[0m \u001b[0mtrain_data_nol\u001b[0m \u001b[1;33m=\u001b[0m \u001b[0mtrain_data\u001b[0m\u001b[1;33m[\u001b[0m\u001b[1;36m0\u001b[0m\u001b[1;33m]\u001b[0m \u001b[1;33m/\u001b[0m \u001b[1;36m255\u001b[0m\u001b[1;33m\u001b[0m\u001b[1;33m\u001b[0m\u001b[0m\n\u001b[0;32m      2\u001b[0m \u001b[0mtest_data_nol\u001b[0m \u001b[1;33m=\u001b[0m \u001b[0mtest_data\u001b[0m\u001b[1;33m[\u001b[0m\u001b[1;36m0\u001b[0m\u001b[1;33m]\u001b[0m \u001b[1;33m/\u001b[0m \u001b[1;36m255\u001b[0m\u001b[1;33m\u001b[0m\u001b[1;33m\u001b[0m\u001b[0m\n\u001b[1;32m----> 3\u001b[1;33m \u001b[0mparameters\u001b[0m\u001b[1;33m,\u001b[0m\u001b[0mcost_epoch_avg\u001b[0m\u001b[1;33m,\u001b[0m \u001b[0mcost_epoch_std\u001b[0m \u001b[1;33m=\u001b[0m \u001b[0mnn_model\u001b[0m\u001b[1;33m(\u001b[0m\u001b[0mtrain_data_nol\u001b[0m\u001b[1;33m,\u001b[0m\u001b[0mtrain_data\u001b[0m\u001b[1;33m[\u001b[0m\u001b[1;36m1\u001b[0m\u001b[1;33m]\u001b[0m\u001b[1;33m,\u001b[0m\u001b[1;36m55000\u001b[0m\u001b[1;33m,\u001b[0m\u001b[1;36m5\u001b[0m\u001b[1;33m)\u001b[0m\u001b[1;33m\u001b[0m\u001b[1;33m\u001b[0m\u001b[0m\n\u001b[0m",
      "\u001b[1;32m<ipython-input-41-6f65dfdbdb43>\u001b[0m in \u001b[0;36mnn_model\u001b[1;34m(train_data, true_label, num_iterations, epoch)\u001b[0m\n\u001b[0;32m     15\u001b[0m             \u001b[0mt\u001b[0m \u001b[1;33m=\u001b[0m \u001b[0mt_oh\u001b[0m\u001b[1;33m[\u001b[0m\u001b[0mi\u001b[0m\u001b[1;33m]\u001b[0m\u001b[1;33m.\u001b[0m\u001b[0mreshape\u001b[0m\u001b[1;33m(\u001b[0m\u001b[1;36m1\u001b[0m\u001b[1;33m,\u001b[0m\u001b[1;36m10\u001b[0m\u001b[1;33m)\u001b[0m\u001b[1;33m\u001b[0m\u001b[1;33m\u001b[0m\u001b[0m\n\u001b[0;32m     16\u001b[0m             \u001b[0mcost\u001b[0m \u001b[1;33m=\u001b[0m \u001b[0mcross_entropy\u001b[0m\u001b[1;33m(\u001b[0m\u001b[0my\u001b[0m\u001b[1;33m,\u001b[0m\u001b[0mt\u001b[0m\u001b[1;33m)\u001b[0m\u001b[1;33m\u001b[0m\u001b[1;33m\u001b[0m\u001b[0m\n\u001b[1;32m---> 17\u001b[1;33m             \u001b[0mgrads\u001b[0m \u001b[1;33m=\u001b[0m \u001b[0mbackward\u001b[0m\u001b[1;33m(\u001b[0m\u001b[0my\u001b[0m\u001b[1;33m,\u001b[0m\u001b[0mt\u001b[0m\u001b[1;33m,\u001b[0m\u001b[0mx\u001b[0m\u001b[1;33m,\u001b[0m \u001b[0mparameters\u001b[0m\u001b[1;33m,\u001b[0m\u001b[0mcache\u001b[0m\u001b[1;33m)\u001b[0m\u001b[1;33m\u001b[0m\u001b[1;33m\u001b[0m\u001b[0m\n\u001b[0m\u001b[0;32m     18\u001b[0m             \u001b[0mparameters\u001b[0m \u001b[1;33m=\u001b[0m \u001b[0mupdate_parameters\u001b[0m\u001b[1;33m(\u001b[0m\u001b[0mparameters\u001b[0m\u001b[1;33m,\u001b[0m\u001b[0mgrads\u001b[0m\u001b[1;33m,\u001b[0m\u001b[0mlearning_rate\u001b[0m \u001b[1;33m=\u001b[0m \u001b[1;36m0.0001\u001b[0m\u001b[1;33m)\u001b[0m\u001b[1;33m\u001b[0m\u001b[1;33m\u001b[0m\u001b[0m\n\u001b[0;32m     19\u001b[0m             \u001b[0mloss\u001b[0m\u001b[1;33m.\u001b[0m\u001b[0mappend\u001b[0m\u001b[1;33m(\u001b[0m\u001b[0mcost\u001b[0m\u001b[1;33m)\u001b[0m\u001b[1;33m\u001b[0m\u001b[1;33m\u001b[0m\u001b[0m\n",
      "\u001b[1;32m<ipython-input-9-0c9e17f7b9b3>\u001b[0m in \u001b[0;36mbackward\u001b[1;34m(y, t, x, parameters, cache)\u001b[0m\n\u001b[0;32m      8\u001b[0m     \u001b[0mdh\u001b[0m \u001b[1;33m=\u001b[0m \u001b[0mnp\u001b[0m\u001b[1;33m.\u001b[0m\u001b[0msum\u001b[0m\u001b[1;33m(\u001b[0m\u001b[0mnp\u001b[0m\u001b[1;33m.\u001b[0m\u001b[0mdot\u001b[0m\u001b[1;33m(\u001b[0m\u001b[0mdloss\u001b[0m\u001b[1;33m,\u001b[0m \u001b[0mV\u001b[0m\u001b[1;33m.\u001b[0m\u001b[0mT\u001b[0m\u001b[1;33m)\u001b[0m\u001b[1;33m)\u001b[0m\u001b[1;33m\u001b[0m\u001b[1;33m\u001b[0m\u001b[0m\n\u001b[0;32m      9\u001b[0m     \u001b[0mdk\u001b[0m \u001b[1;33m=\u001b[0m \u001b[0mnp\u001b[0m\u001b[1;33m.\u001b[0m\u001b[0mdot\u001b[0m\u001b[1;33m(\u001b[0m\u001b[0mdh\u001b[0m\u001b[1;33m,\u001b[0m\u001b[0msigmoid\u001b[0m\u001b[1;33m(\u001b[0m\u001b[0mk\u001b[0m\u001b[1;33m)\u001b[0m \u001b[1;33m*\u001b[0m \u001b[1;33m(\u001b[0m\u001b[1;36m1\u001b[0m\u001b[1;33m-\u001b[0m\u001b[0msigmoid\u001b[0m\u001b[1;33m(\u001b[0m\u001b[0mk\u001b[0m\u001b[1;33m)\u001b[0m\u001b[1;33m)\u001b[0m\u001b[1;33m)\u001b[0m\u001b[1;33m\u001b[0m\u001b[1;33m\u001b[0m\u001b[0m\n\u001b[1;32m---> 10\u001b[1;33m     \u001b[0mdW\u001b[0m \u001b[1;33m=\u001b[0m \u001b[0mnp\u001b[0m\u001b[1;33m.\u001b[0m\u001b[0mdot\u001b[0m\u001b[1;33m(\u001b[0m\u001b[0mdk\u001b[0m\u001b[1;33m,\u001b[0m \u001b[0mx\u001b[0m\u001b[1;33m.\u001b[0m\u001b[0mT\u001b[0m\u001b[1;33m)\u001b[0m\u001b[1;33m\u001b[0m\u001b[1;33m\u001b[0m\u001b[0m\n\u001b[0m\u001b[0;32m     11\u001b[0m     \u001b[0mdb\u001b[0m \u001b[1;33m=\u001b[0m \u001b[0mdk\u001b[0m\u001b[1;33m\u001b[0m\u001b[1;33m\u001b[0m\u001b[0m\n\u001b[0;32m     12\u001b[0m \u001b[1;33m\u001b[0m\u001b[0m\n",
      "\u001b[1;32m<__array_function__ internals>\u001b[0m in \u001b[0;36mdot\u001b[1;34m(*args, **kwargs)\u001b[0m\n",
      "\u001b[1;31mKeyboardInterrupt\u001b[0m: "
     ]
    }
   ],
   "source": [
    "train_data_nol = train_data[0] / 255\n",
    "test_data_nol = test_data[0] / 255\n",
    "parameters,cost_epoch_avg, cost_epoch_std = nn_model(train_data_nol,train_data[1],55000,5)"
   ]
  },
  {
   "cell_type": "code",
   "execution_count": 37,
   "metadata": {},
   "outputs": [
    {
     "name": "stdout",
     "output_type": "stream",
     "text": [
      "[1.028892738157288, 0.5834220179855385, 0.48118695454546595, 0.44596780371710654, 0.3853830447549302]\n",
      "[0.8295672658440806, 0.5783703188743582, 0.5232546803928559, 0.5058359154960066, 0.4655909242507477]\n",
      "[0.660171861387205, 0.47509176410924775, 0.42212903296679544, 0.37404897685678856, 0.3251417099247108]\n",
      "[0.6005009982136135, 0.5327040800605564, 0.4945063809757671, 0.46041177035046144, 0.42407123370996114]\n",
      "[1.8306874361824819, 1.5831879017473474, 1.0765437674012541, 1.0236527114182656, 0.22719196100953173]\n"
     ]
    }
   ],
   "source": [
    "cea = cost_epoch_avg\n",
    "ces = cost_epoch_std\n",
    "print(cea)\n",
    "print(ces)"
   ]
  },
  {
   "cell_type": "code",
   "execution_count": 84,
   "metadata": {},
   "outputs": [],
   "source": [
    "def predict(parameters, validation,validation_label):\n",
    "    counts = 0\n",
    "    t = convert_onehot(validation_label)\n",
    "    y, cache = forward(validation.T,parameters)\n",
    "    for i in range(len(y)):\n",
    "        max_num = np.max(y[i])\n",
    "        for j in range(len(y[i])):\n",
    "            if y[i][j] == max_num:\n",
    "                y[i][j] = 1\n",
    "            else:\n",
    "                y[i][j] = 0\n",
    "    for i in range(len(y)):\n",
    "        if (y[i] == t[i]).all():\n",
    "            counts += 1\n",
    "    \n",
    "    return counts / 10000"
   ]
  },
  {
   "cell_type": "code",
   "execution_count": 85,
   "metadata": {},
   "outputs": [],
   "source": [
    "prediction = predict(parameters, test_data_nol, test_data[1])"
   ]
  },
  {
   "cell_type": "code",
   "execution_count": 86,
   "metadata": {},
   "outputs": [
    {
     "name": "stdout",
     "output_type": "stream",
     "text": [
      "0.8987\n"
     ]
    }
   ],
   "source": [
    "print(prediction)"
   ]
  },
  {
   "cell_type": "code",
   "execution_count": 40,
   "metadata": {},
   "outputs": [
    {
     "data": {
      "image/png": "[encoded data removed]",
      "text/plain": [
       "<Figure size 432x288 with 1 Axes>"
      ]
     },
     "metadata": {},
     "output_type": "display_data"
    }
   ],
   "source": [
    "sns.set_style(\"darkgrid\")\n",
    "x = np.arange(0,5)\n",
    "my_x_ticks = np.arange(0, 6, 1)\n",
    "plt.xticks(my_x_ticks)\n",
    "sns.lineplot(x = x, y = cea,label = 'training loss on the mnist data')\n",
    "#sns.lineplot(x = x, y = ceav, color = 'red',label = 'validataion loss on the mnist data')\n",
    "plt.fill_between(x = x, y1 = [(cea[i]-ces[i]) for i in range(len(cea))], y2 = [(cea[i]+ces[i]) for i in range(len(cea))],alpha = 0.2)\n",
    "#plt.fill_between(x = x, y1 = [(ceav[i]-cesv[i]) for i in range(len(ceav))], y2 = [(ceav[i]+cesv[i]) for i in range(len(ceav))],alpha = 0.2)\n",
    "plt.xlabel('epochs')\n",
    "plt.ylabel('average Loss')\n",
    "plt.legend()\n",
    "plt.savefig(r'C:\\Users\\WXK\\Desktop\\Deep learning\\std final training loss on the mnist data_0.0001.png')"
   ]
  }
 ],
 "metadata": {
  "kernelspec": {
   "display_name": "Python 3",
   "language": "python",
   "name": "python3"
  },
  "language_info": {
   "codemirror_mode": {
    "name": "ipython",
    "version": 3
   },
   "file_extension": ".py",
   "mimetype": "text/x-python",
   "name": "python",
   "nbconvert_exporter": "python",
   "pygments_lexer": "ipython3",
   "version": "3.7.4"
  }
 },
 "nbformat": 4,
 "nbformat_minor": 4
}
